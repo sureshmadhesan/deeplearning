{
  "nbformat": 4,
  "nbformat_minor": 0,
  "metadata": {
    "colab": {
      "name": "online1.ipynb",
      "provenance": [],
      "authorship_tag": "ABX9TyPTWicL3dEj5oQnKap0VrpI",
      "include_colab_link": true
    },
    "kernelspec": {
      "name": "python3",
      "display_name": "Python 3"
    }
  },
  "cells": [
    {
      "cell_type": "markdown",
      "metadata": {
        "id": "view-in-github",
        "colab_type": "text"
      },
      "source": [
        "<a href=\"https://colab.research.google.com/github/sureshmadhesan/deeplearning/blob/master/online1.ipynb\" target=\"_parent\"><img src=\"https://colab.research.google.com/assets/colab-badge.svg\" alt=\"Open In Colab\"/></a>"
      ]
    },
    {
      "cell_type": "markdown",
      "metadata": {
        "id": "alb76KD4H-pG",
        "colab_type": "text"
      },
      "source": [
        "### **My first coding in python**"
      ]
    },
    {
      "cell_type": "code",
      "metadata": {
        "id": "xz7XF1gmH7ho",
        "colab_type": "code",
        "colab": {
          "base_uri": "https://localhost:8080/",
          "height": 34
        },
        "outputId": "117b42e6-d78c-4ecf-e5b3-469c895b7c66"
      },
      "source": [
        "print (\"Hello everybody !!\")"
      ],
      "execution_count": 3,
      "outputs": [
        {
          "output_type": "stream",
          "text": [
            "Hello everybody !!\n"
          ],
          "name": "stdout"
        }
      ]
    },
    {
      "cell_type": "markdown",
      "metadata": {
        "id": "TDyrkUQRIOrH",
        "colab_type": "text"
      },
      "source": [
        "# **To get the data from Google Analytics**"
      ]
    },
    {
      "cell_type": "code",
      "metadata": {
        "id": "12lVLg8OIS2_",
        "colab_type": "code",
        "colab": {
          "base_uri": "https://localhost:8080/",
          "height": 102
        },
        "outputId": "f5b7e7af-9ea1-4456-fd39-095d05197bd2"
      },
      "source": [
        "!pip3 install requests"
      ],
      "execution_count": 4,
      "outputs": [
        {
          "output_type": "stream",
          "text": [
            "Requirement already satisfied: requests in /usr/local/lib/python3.6/dist-packages (2.23.0)\n",
            "Requirement already satisfied: certifi>=2017.4.17 in /usr/local/lib/python3.6/dist-packages (from requests) (2020.4.5.1)\n",
            "Requirement already satisfied: idna<3,>=2.5 in /usr/local/lib/python3.6/dist-packages (from requests) (2.9)\n",
            "Requirement already satisfied: urllib3!=1.25.0,!=1.25.1,<1.26,>=1.21.1 in /usr/local/lib/python3.6/dist-packages (from requests) (1.24.3)\n",
            "Requirement already satisfied: chardet<4,>=3.0.2 in /usr/local/lib/python3.6/dist-packages (from requests) (3.0.4)\n"
          ],
          "name": "stdout"
        }
      ]
    },
    {
      "cell_type": "code",
      "metadata": {
        "id": "E8qeWL_UJHw6",
        "colab_type": "code",
        "colab": {
          "base_uri": "https://localhost:8080/",
          "height": 34
        },
        "outputId": "58bbc57a-a70a-4a1e-ea75-4d629dbb0ee1"
      },
      "source": [
        "import requests as rq\n",
        "\n",
        "r = rq.get('https://api.github.com/repos/psf/requests')\n",
        "r.json()[\"watchers\"]"
      ],
      "execution_count": 10,
      "outputs": [
        {
          "output_type": "execute_result",
          "data": {
            "text/plain": [
              "42482"
            ]
          },
          "metadata": {
            "tags": []
          },
          "execution_count": 10
        }
      ]
    },
    {
      "cell_type": "code",
      "metadata": {
        "id": "JoKksO-PL_3V",
        "colab_type": "code",
        "colab": {
          "base_uri": "https://localhost:8080/",
          "height": 34
        },
        "outputId": "fdf1e180-55bd-447b-ec28-ae0f60dfc58c"
      },
      "source": [
        "import tensorflow as tf\n",
        "tf.print(\"Stat Data\")"
      ],
      "execution_count": 11,
      "outputs": [
        {
          "output_type": "stream",
          "text": [
            "Stat Data\n"
          ],
          "name": "stdout"
        }
      ]
    }
  ]
}